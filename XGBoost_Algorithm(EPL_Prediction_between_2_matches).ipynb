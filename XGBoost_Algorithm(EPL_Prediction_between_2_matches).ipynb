{
  "nbformat": 4,
  "nbformat_minor": 0,
  "metadata": {
    "colab": {
      "provenance": [],
      "authorship_tag": "ABX9TyOUiKDNFQnIKk5zZZ+pVkyY",
      "include_colab_link": true
    },
    "kernelspec": {
      "name": "python3",
      "display_name": "Python 3"
    },
    "language_info": {
      "name": "python"
    }
  },
  "cells": [
    {
      "cell_type": "markdown",
      "metadata": {
        "id": "view-in-github",
        "colab_type": "text"
      },
      "source": [
        "<a href=\"https://colab.research.google.com/github/art-lmk/EPL-Matches-prediction-with-XGBoost-Algorithm/blob/main/XGBoost_Algorithm(EPL_Prediction_between_2_matches).ipynb\" target=\"_parent\"><img src=\"https://colab.research.google.com/assets/colab-badge.svg\" alt=\"Open In Colab\"/></a>"
      ]
    },
    {
      "cell_type": "code",
      "source": [
        "# 1. Import necessary libraries\n",
        "import pandas as pd  # For data manipulation and analysis using DataFrames\n",
        "import numpy as np   # For numerical operations and arrays\n",
        "import matplotlib.pyplot as plt  # For creating static visualizations\n",
        "import seaborn as sns  # For creating statistical graphics (built on matplotlib)\n",
        "from sklearn.model_selection import train_test_split  # To split data into training and testing sets\n",
        "from sklearn.preprocessing import LabelEncoder, StandardScaler  # For encoding labels and scaling features\n",
        "from sklearn.metrics import accuracy_score, classification_report, confusion_matrix  # For model evaluation\n",
        "from xgboost import XGBClassifier  # The XGBoost classification algorithm\n",
        "import warnings  # To handle warning messages\n",
        "warnings.filterwarnings('ignore')  # Ignore warnings to keep output clean"
      ],
      "metadata": {
        "id": "EP-ioSQezug-"
      },
      "execution_count": 33,
      "outputs": []
    },
    {
      "cell_type": "code",
      "source": [
        "# 2. Set random seed for reproducibility\n",
        "np.random.seed(42)  # Ensures that random operations give the same results every time"
      ],
      "metadata": {
        "id": "ZatxCVCxz0Lu"
      },
      "execution_count": 34,
      "outputs": []
    },
    {
      "cell_type": "code",
      "source": [
        "# 3. Load your dataset\n",
        "df = pd.read_csv('epl_final.csv')  # Reads the CSV file into a pandas DataFrame\n"
      ],
      "metadata": {
        "id": "wE5N6UOD0SWz"
      },
      "execution_count": 35,
      "outputs": []
    },
    {
      "cell_type": "code",
      "source": [
        "# 4. Display basic information about the dataset\n",
        "df.shape  # Shows number of rows and columns\n",
        "df.head()  # Displays the first 5 rows of the DataFrame\n",
        "df.columns.tolist()  # Prints all column names\n",
        "#df.dtypes  # Shows the data type of each column\n",
        "#df.isnull().sum()  # Counts missing values in each column"
      ],
      "metadata": {
        "colab": {
          "base_uri": "https://localhost:8080/"
        },
        "id": "zmM_G8ox0cQJ",
        "outputId": "e15ef82f-9c81-4541-9adb-2602315c40c2"
      },
      "execution_count": 50,
      "outputs": [
        {
          "output_type": "execute_result",
          "data": {
            "text/plain": [
              "['Season',\n",
              " 'MatchDate',\n",
              " 'HomeTeam',\n",
              " 'AwayTeam',\n",
              " 'FullTimeHomeGoals',\n",
              " 'FullTimeAwayGoals',\n",
              " 'FullTimeResult',\n",
              " 'HalfTimeHomeGoals',\n",
              " 'HalfTimeAwayGoals',\n",
              " 'HalfTimeResult',\n",
              " 'HomeShots',\n",
              " 'AwayShots',\n",
              " 'HomeShotsOnTarget',\n",
              " 'AwayShotsOnTarget',\n",
              " 'HomeCorners',\n",
              " 'AwayCorners',\n",
              " 'HomeFouls',\n",
              " 'AwayFouls',\n",
              " 'HomeYellowCards',\n",
              " 'AwayYellowCards',\n",
              " 'HomeRedCards',\n",
              " 'AwayRedCards']"
            ]
          },
          "metadata": {},
          "execution_count": 50
        }
      ]
    },
    {
      "cell_type": "code",
      "source": [
        "# Identify what you want to predict\n",
        "target='FullTimeResult'"
      ],
      "metadata": {
        "id": "1nEhgDJ907SQ"
      },
      "execution_count": 41,
      "outputs": []
    },
    {
      "cell_type": "code",
      "source": [
        "# 6. Check the distribution of the target variable\n",
        "print(f\"\\nDistribution of {target}:\")\n",
        "print(df[target].value_counts())  # Counts occurrences of each result type"
      ],
      "metadata": {
        "colab": {
          "base_uri": "https://localhost:8080/"
        },
        "id": "mC9KSTzH1QGB",
        "outputId": "81758add-fa5f-42bb-ff51-40d93d324115"
      },
      "execution_count": 43,
      "outputs": [
        {
          "output_type": "stream",
          "name": "stdout",
          "text": [
            "\n",
            "Distribution of FullTimeResult:\n",
            "FullTimeResult\n",
            "H    4299\n",
            "A    2768\n",
            "D    2313\n",
            "Name: count, dtype: int64\n"
          ]
        }
      ]
    },
    {
      "cell_type": "code",
      "source": [
        "# 7. Visualize the target distribution\n",
        "plt.figure(figsize=(8, 6))  # Creates a figure with specified size (width, height)\n",
        "df[target].value_counts().plot(kind='bar')  # Creates a bar chart of result counts\n",
        "plt.title('Distribution of Match Results')  # Adds a title to the plot\n",
        "plt.xlabel('Result')  # Adds label to x-axis\n",
        "plt.ylabel('Count')  # Adds label to y-axis\n",
        "plt.xticks(rotation=0)  # Keeps x-axis labels horizontal\n",
        "plt.show()  # Displays the plot"
      ],
      "metadata": {
        "colab": {
          "base_uri": "https://localhost:8080/",
          "height": 564
        },
        "id": "dXhyHgCt1g5z",
        "outputId": "feba436f-8370-47b3-c1ce-53a09d0229d5"
      },
      "execution_count": 48,
      "outputs": [
        {
          "output_type": "display_data",
          "data": {
            "text/plain": [
              "<Figure size 800x600 with 1 Axes>"
            ],
            "image/png": "[encoded data removed]"
          },
          "metadata": {}
        }
      ]
    },
    {
      "cell_type": "code",
      "source": [
        "features=['HomeTeam','AwayTeam','HomeGoalsAvg','AwayGoalsAvg']"
      ],
      "metadata": {
        "id": "8ligfR_62Gch"
      },
      "execution_count": null,
      "outputs": []
    }
  ]
}